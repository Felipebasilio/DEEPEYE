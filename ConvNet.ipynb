{
 "cells": [
  {
   "cell_type": "code",
   "execution_count": 1,
   "metadata": {},
   "outputs": [
    {
     "name": "stderr",
     "output_type": "stream",
     "text": [
      "Using TensorFlow backend.\n"
     ]
    }
   ],
   "source": [
    "import tensorflow\n",
    "from keras.models import Sequential\n",
    "from keras.layers import Dense, Dropout, Activation, Flatten, Conv2D, MaxPooling2D\n",
    "import pickle\n",
    "import numpy as np\n",
    "from tensorflow.keras.models import load_model\n",
    "import keras\n",
    "\n",
    "X_train = pickle.load(open(\"X_train.pickle\",\"rb\"))\n",
    "y_train = pickle.load(open(\"y_train.pickle\",\"rb\"))\n",
    "\n",
    "X_train = X_train/255.0\n",
    "X_train = np.array(X_train)\n",
    "y_train = keras.utils.to_categorical(y_train, num_classes=2)\n",
    "'''y_train = np.array(y_train)'''\n",
    "\n",
    "X_test = pickle.load(open(\"X_test.pickle\",\"rb\"))\n",
    "y_test = pickle.load(open(\"y_test.pickle\",\"rb\"))\n",
    "\n",
    "X_test = X_test/255.0\n",
    "X_test = np.array(X_test)\n",
    "'''y_test = np.array(y_test)'''\n",
    "y_test = keras.utils.to_categorical(y_test, num_classes=2)"
   ]
  },
  {
   "cell_type": "code",
   "execution_count": 8,
   "metadata": {},
   "outputs": [
    {
     "name": "stdout",
     "output_type": "stream",
     "text": [
      "Epoch 1/20\n",
      "5258/5258 [==============================] - 5s 948us/step - loss: 0.7205 - accuracy: 0.4990\n",
      "Epoch 2/20\n",
      "5258/5258 [==============================] - 3s 589us/step - loss: 0.6985 - accuracy: 0.5051\n",
      "Epoch 3/20\n",
      "5258/5258 [==============================] - 3s 574us/step - loss: 0.6945 - accuracy: 0.4989\n",
      "Epoch 4/20\n",
      "5258/5258 [==============================] - 3s 577us/step - loss: 0.6937 - accuracy: 0.4985\n",
      "Epoch 5/20\n",
      "5258/5258 [==============================] - 3s 575us/step - loss: 0.6936 - accuracy: 0.5063\n",
      "Epoch 6/20\n",
      "5258/5258 [==============================] - 3s 573us/step - loss: 0.6939 - accuracy: 0.5008\n",
      "Epoch 7/20\n",
      "5258/5258 [==============================] - 3s 575us/step - loss: 0.6940 - accuracy: 0.5038\n",
      "Epoch 8/20\n",
      "5258/5258 [==============================] - 3s 574us/step - loss: 0.6932 - accuracy: 0.5074\n",
      "Epoch 9/20\n",
      "5258/5258 [==============================] - 3s 575us/step - loss: 0.6931 - accuracy: 0.5082\n",
      "Epoch 10/20\n",
      "5258/5258 [==============================] - 3s 573us/step - loss: 0.6936 - accuracy: 0.4985\n",
      "Epoch 11/20\n",
      "5258/5258 [==============================] - 3s 573us/step - loss: 0.6927 - accuracy: 0.5108\n",
      "Epoch 12/20\n",
      "5258/5258 [==============================] - 3s 575us/step - loss: 0.6927 - accuracy: 0.5034\n",
      "Epoch 13/20\n",
      "5258/5258 [==============================] - 3s 579us/step - loss: 0.6925 - accuracy: 0.5120\n",
      "Epoch 14/20\n",
      "5258/5258 [==============================] - 3s 577us/step - loss: 0.6924 - accuracy: 0.5080\n",
      "Epoch 15/20\n",
      "5258/5258 [==============================] - 3s 574us/step - loss: 0.6931 - accuracy: 0.5108\n",
      "Epoch 16/20\n",
      "5258/5258 [==============================] - 3s 579us/step - loss: 0.6922 - accuracy: 0.5133\n",
      "Epoch 17/20\n",
      "5258/5258 [==============================] - 3s 587us/step - loss: 0.6921 - accuracy: 0.5030\n",
      "Epoch 18/20\n",
      "5258/5258 [==============================] - 3s 576us/step - loss: 0.6927 - accuracy: 0.5040\n",
      "Epoch 19/20\n",
      "5258/5258 [==============================] - 3s 575us/step - loss: 0.6938 - accuracy: 0.5006\n",
      "Epoch 20/20\n",
      "5258/5258 [==============================] - 3s 574us/step - loss: 0.6925 - accuracy: 0.5164\n",
      "406/406 [==============================] - 0s 558us/step\n"
     ]
    }
   ],
   "source": [
    "model = Sequential()\n",
    "# Dense(64) is a fully-connected layer with 64 hidden units.\n",
    "# in the first layer, you must specify the expected input data shape:\n",
    "# here, 20-dimensional vectors.\n",
    "model.add(Flatten(input_shape=(200, 200, 1)))\n",
    "model.add(Dense(64, activation='relu'))\n",
    "model.add(Dropout(0.5))\n",
    "model.add(Dense(64, activation='relu'))\n",
    "model.add(Dropout(0.5))\n",
    "model.add(Dense(2, activation='softmax'))\n",
    "\n",
    "'''sgd = SGD(lr=0.01, decay=1e-6, momentum=0.9)'''\n",
    "model.compile(loss='categorical_crossentropy',\n",
    "              optimizer=keras.optimizers.SGD(lr=0.0001,\n",
    "                                                momentum=0.9),\n",
    "              metrics=['accuracy'])\n",
    "\n",
    "model.fit(X_train, y_train,\n",
    "          epochs=20,\n",
    "          batch_size=128)\n",
    "score = model.evaluate(X_test, y_test, batch_size=128)"
   ]
  },
  {
   "cell_type": "code",
   "execution_count": 12,
   "metadata": {},
   "outputs": [
    {
     "name": "stdout",
     "output_type": "stream",
     "text": [
      "Perda do teste: 0.691666788068311\n",
      "Acurácia do teste: 0.5541871786117554\n"
     ]
    }
   ],
   "source": [
    "print('Perda do teste:', score[0])\n",
    "print('Acurácia do teste:', score[1])"
   ]
  },
  {
   "cell_type": "code",
   "execution_count": 25,
   "metadata": {},
   "outputs": [
    {
     "name": "stdout",
     "output_type": "stream",
     "text": [
      "Train on 4531 samples, validate on 1133 samples\n",
      "Epoch 1/5\n",
      "4531/4531 [==============================] - 21s 5ms/step - loss: 1.5527 - accuracy: 0.4926 - val_loss: 0.6926 - val_accuracy: 0.5146\n",
      "Epoch 2/5\n",
      "4531/4531 [==============================] - 21s 5ms/step - loss: 0.6938 - accuracy: 0.5023 - val_loss: 0.6946 - val_accuracy: 0.4898\n",
      "Epoch 3/5\n",
      "4531/4531 [==============================] - 21s 5ms/step - loss: 0.6933 - accuracy: 0.5025 - val_loss: 0.6934 - val_accuracy: 0.4890\n",
      "Epoch 4/5\n",
      "4531/4531 [==============================] - 21s 5ms/step - loss: 0.6932 - accuracy: 0.5025 - val_loss: 0.6933 - val_accuracy: 0.4890\n"
     ]
    }
   ],
   "source": [
    "modelo = Sequential([ \n",
    "    \n",
    "    Flatten(input_shape=(200, 200, 1)),\n",
    "    Dense(256, activation=tensorflow.nn.relu),\n",
    "    Dense(128, activation=tensorflow.nn.relu),\n",
    "    Dense(64, activation=tensorflow.nn.relu),\n",
    "    Dropout(0.2),\n",
    "    Dense(2, activation=tensorflow.nn.softmax)\n",
    "])\n",
    "\n",
    "modelo.compile(loss='categorical_crossentropy',\n",
    "               optimizer = keras.optimizers.SGD(lr=0.0001,\n",
    "                                                momentum=0.9),\n",
    "               metrics=[\"accuracy\"])\n",
    "\n",
    "adam = keras.optimizers.Adam(lr=0.002)\n",
    "\n",
    "'''lr\n",
    "learning rate\n",
    "taxa de aprendizado'''\n",
    "\n",
    "parando_cedo = [keras.callbacks.EarlyStopping(monitor='accuracy'),\n",
    "                keras.callbacks.ModelCheckpoint(filepath='melhor_modelo.hdf5',\n",
    "                                               monitor='val_loss', save_best_only=True)]\n",
    "\n",
    "modelo.compile(optimizer=adam, \n",
    "               loss='sparse_categorical_crossentropy',\n",
    "               metrics=['accuracy'])\n",
    "\n",
    "historico = modelo.fit(X, y,\n",
    "                       epochs=5, validation_split=0.2,\n",
    "                       callbacks=parando_cedo)"
   ]
  },
  {
   "cell_type": "code",
   "execution_count": 21,
   "metadata": {},
   "outputs": [
    {
     "ename": "TypeError",
     "evalue": "The added layer must be an instance of class Layer. Found: <keras.layers.convolutional.Conv2D object at 0x0000029D0E7E31F0>",
     "output_type": "error",
     "traceback": [
      "\u001b[1;31m---------------------------------------------------------------------------\u001b[0m",
      "\u001b[1;31mTypeError\u001b[0m                                 Traceback (most recent call last)",
      "\u001b[1;32m<ipython-input-21-47f2286f8375>\u001b[0m in \u001b[0;36m<module>\u001b[1;34m\u001b[0m\n\u001b[0;32m      1\u001b[0m \u001b[0mmodel\u001b[0m \u001b[1;33m=\u001b[0m \u001b[0mSequential\u001b[0m\u001b[1;33m(\u001b[0m\u001b[1;33m)\u001b[0m\u001b[1;33m\u001b[0m\u001b[1;33m\u001b[0m\u001b[0m\n\u001b[0;32m      2\u001b[0m \u001b[1;33m\u001b[0m\u001b[0m\n\u001b[1;32m----> 3\u001b[1;33m \u001b[0mmodel\u001b[0m\u001b[1;33m.\u001b[0m\u001b[0madd\u001b[0m\u001b[1;33m(\u001b[0m\u001b[0mkeras\u001b[0m\u001b[1;33m.\u001b[0m\u001b[0mlayers\u001b[0m\u001b[1;33m.\u001b[0m\u001b[0mconvolutional\u001b[0m\u001b[1;33m.\u001b[0m\u001b[0mConv2D\u001b[0m\u001b[1;33m(\u001b[0m\u001b[1;36m64\u001b[0m\u001b[1;33m,\u001b[0m \u001b[1;33m(\u001b[0m\u001b[1;36m3\u001b[0m\u001b[1;33m,\u001b[0m\u001b[1;36m3\u001b[0m\u001b[1;33m)\u001b[0m\u001b[1;33m,\u001b[0m \u001b[0minput_shape\u001b[0m \u001b[1;33m=\u001b[0m \u001b[0mX\u001b[0m\u001b[1;33m.\u001b[0m\u001b[0mshape\u001b[0m\u001b[1;33m[\u001b[0m\u001b[1;36m1\u001b[0m\u001b[1;33m:\u001b[0m\u001b[1;33m]\u001b[0m\u001b[1;33m)\u001b[0m\u001b[1;33m)\u001b[0m\u001b[1;33m\u001b[0m\u001b[1;33m\u001b[0m\u001b[0m\n\u001b[0m\u001b[0;32m      4\u001b[0m \u001b[0mmodel\u001b[0m\u001b[1;33m.\u001b[0m\u001b[0madd\u001b[0m\u001b[1;33m(\u001b[0m\u001b[0mkeras\u001b[0m\u001b[1;33m.\u001b[0m\u001b[0mlayers\u001b[0m\u001b[1;33m.\u001b[0m\u001b[0mActivation\u001b[0m\u001b[1;33m(\u001b[0m\u001b[1;34m\"relu\"\u001b[0m\u001b[1;33m)\u001b[0m\u001b[1;33m)\u001b[0m\u001b[1;33m\u001b[0m\u001b[1;33m\u001b[0m\u001b[0m\n\u001b[0;32m      5\u001b[0m \u001b[0mmodel\u001b[0m\u001b[1;33m.\u001b[0m\u001b[0madd\u001b[0m\u001b[1;33m(\u001b[0m\u001b[0mkeras\u001b[0m\u001b[1;33m.\u001b[0m\u001b[0mlayers\u001b[0m\u001b[1;33m.\u001b[0m\u001b[0mMaxPooling2D\u001b[0m\u001b[1;33m(\u001b[0m\u001b[0mpool_size\u001b[0m\u001b[1;33m=\u001b[0m\u001b[1;33m(\u001b[0m\u001b[1;36m2\u001b[0m\u001b[1;33m,\u001b[0m\u001b[1;36m2\u001b[0m\u001b[1;33m)\u001b[0m\u001b[1;33m)\u001b[0m\u001b[1;33m)\u001b[0m\u001b[1;33m\u001b[0m\u001b[1;33m\u001b[0m\u001b[0m\n",
      "\u001b[1;32mD:\\Documents\\Programas\\Anaconda\\Installation\\envs\\deeplearning\\lib\\site-packages\\tensorflow\\python\\training\\tracking\\base.py\u001b[0m in \u001b[0;36m_method_wrapper\u001b[1;34m(self, *args, **kwargs)\u001b[0m\n\u001b[0;32m    454\u001b[0m     \u001b[0mself\u001b[0m\u001b[1;33m.\u001b[0m\u001b[0m_self_setattr_tracking\u001b[0m \u001b[1;33m=\u001b[0m \u001b[1;32mFalse\u001b[0m  \u001b[1;31m# pylint: disable=protected-access\u001b[0m\u001b[1;33m\u001b[0m\u001b[1;33m\u001b[0m\u001b[0m\n\u001b[0;32m    455\u001b[0m     \u001b[1;32mtry\u001b[0m\u001b[1;33m:\u001b[0m\u001b[1;33m\u001b[0m\u001b[1;33m\u001b[0m\u001b[0m\n\u001b[1;32m--> 456\u001b[1;33m       \u001b[0mresult\u001b[0m \u001b[1;33m=\u001b[0m \u001b[0mmethod\u001b[0m\u001b[1;33m(\u001b[0m\u001b[0mself\u001b[0m\u001b[1;33m,\u001b[0m \u001b[1;33m*\u001b[0m\u001b[0margs\u001b[0m\u001b[1;33m,\u001b[0m \u001b[1;33m**\u001b[0m\u001b[0mkwargs\u001b[0m\u001b[1;33m)\u001b[0m\u001b[1;33m\u001b[0m\u001b[1;33m\u001b[0m\u001b[0m\n\u001b[0m\u001b[0;32m    457\u001b[0m     \u001b[1;32mfinally\u001b[0m\u001b[1;33m:\u001b[0m\u001b[1;33m\u001b[0m\u001b[1;33m\u001b[0m\u001b[0m\n\u001b[0;32m    458\u001b[0m       \u001b[0mself\u001b[0m\u001b[1;33m.\u001b[0m\u001b[0m_self_setattr_tracking\u001b[0m \u001b[1;33m=\u001b[0m \u001b[0mprevious_value\u001b[0m  \u001b[1;31m# pylint: disable=protected-access\u001b[0m\u001b[1;33m\u001b[0m\u001b[1;33m\u001b[0m\u001b[0m\n",
      "\u001b[1;32mD:\\Documents\\Programas\\Anaconda\\Installation\\envs\\deeplearning\\lib\\site-packages\\tensorflow\\python\\keras\\engine\\sequential.py\u001b[0m in \u001b[0;36madd\u001b[1;34m(self, layer)\u001b[0m\n\u001b[0;32m    170\u001b[0m \u001b[1;33m\u001b[0m\u001b[0m\n\u001b[0;32m    171\u001b[0m     \u001b[1;32mif\u001b[0m \u001b[1;32mnot\u001b[0m \u001b[0misinstance\u001b[0m\u001b[1;33m(\u001b[0m\u001b[0mlayer\u001b[0m\u001b[1;33m,\u001b[0m \u001b[0mbase_layer\u001b[0m\u001b[1;33m.\u001b[0m\u001b[0mLayer\u001b[0m\u001b[1;33m)\u001b[0m\u001b[1;33m:\u001b[0m\u001b[1;33m\u001b[0m\u001b[1;33m\u001b[0m\u001b[0m\n\u001b[1;32m--> 172\u001b[1;33m       raise TypeError('The added layer must be '\n\u001b[0m\u001b[0;32m    173\u001b[0m                       \u001b[1;34m'an instance of class Layer. '\u001b[0m\u001b[1;33m\u001b[0m\u001b[1;33m\u001b[0m\u001b[0m\n\u001b[0;32m    174\u001b[0m                       'Found: ' + str(layer))\n",
      "\u001b[1;31mTypeError\u001b[0m: The added layer must be an instance of class Layer. Found: <keras.layers.convolutional.Conv2D object at 0x0000029D0E7E31F0>"
     ]
    }
   ],
   "source": [
    "model = Sequential()\n",
    "\n",
    "model.add(keras.layers.convolutional.Conv2D(64, (3,3), input_shape = X.shape[1:]))\n",
    "model.add(keras.layers.Activation(\"relu\"))\n",
    "model.add(keras.layers.MaxPooling2D(pool_size=(2,2)))\n",
    "\n",
    "model.add(keras.layers.Conv2D(64, (3,3)))\n",
    "model.add(keras.layers.Activation(\"relu\"))\n",
    "model.add(keras.layers.MaxPooling2D(pool_size=(2,2)))\n",
    "\n",
    "\n",
    "model.add(keras.layers.Dense(64))\n",
    "\n",
    "model.add(keras.layers.Dense(1))\n",
    "model.add(keras.layers.Activation(\"sigmoid\"))\n",
    "\n",
    "model.compile(loss=\"binary_crossentropy\",\n",
    "             optimizer=\"adam\",\n",
    "             metrics=['accuracy'])\n",
    "\n",
    "model.fit(X, y, batch_size=32, validation_split=0.1)"
   ]
  }
 ],
 "metadata": {
  "kernelspec": {
   "display_name": "Python 3",
   "language": "python",
   "name": "python3"
  },
  "language_info": {
   "codemirror_mode": {
    "name": "ipython",
    "version": 3
   },
   "file_extension": ".py",
   "mimetype": "text/x-python",
   "name": "python",
   "nbconvert_exporter": "python",
   "pygments_lexer": "ipython3",
   "version": "3.8.2"
  }
 },
 "nbformat": 4,
 "nbformat_minor": 4
}
